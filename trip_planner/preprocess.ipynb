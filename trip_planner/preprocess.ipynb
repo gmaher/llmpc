{
 "cells": [
  {
   "cell_type": "code",
   "execution_count": 14,
   "metadata": {},
   "outputs": [],
   "source": [
    "import json\n",
    "import openai\n",
    "import os\n",
    "import ast\n",
    "OPENAI_KEY = os.environ['OPENAI_KEY']\n",
    "\n",
    "client = openai.OpenAI(api_key=OPENAI_KEY)"
   ]
  },
  {
   "cell_type": "code",
   "execution_count": 15,
   "metadata": {},
   "outputs": [],
   "source": [
    "f = open(\"/home/gabriel/projects/natural-plan/ground_truth_data/trip_planning.json\",'r')\n",
    "data = json.load(f)"
   ]
  },
  {
   "cell_type": "code",
   "execution_count": 16,
   "metadata": {},
   "outputs": [],
   "source": [
    "k = \"trip_planning_example_9\""
   ]
  },
  {
   "cell_type": "code",
   "execution_count": 17,
   "metadata": {},
   "outputs": [],
   "source": [
    "ex = data[k]"
   ]
  },
  {
   "cell_type": "code",
   "execution_count": 18,
   "metadata": {},
   "outputs": [
    {
     "name": "stdout",
     "output_type": "stream",
     "text": [
      "You plan to visit 3 European cities for 10 days in total. You only take direct flights to commute between cities. You want to spend 3 days in Frankfurt. You want to spend 3 days in Bucharest. You would like to visit Stuttgart for 6 days. You have to attend a workshop in Stuttgart between day 5 and day 10.\n",
      "\n",
      "Here are the cities that have direct flights:\n",
      "Bucharest and Frankfurt, Frankfurt and Stuttgart.\n",
      "\n",
      "Find a trip plan of visiting the cities for 10 days by taking direct flights to commute between them.\n"
     ]
    }
   ],
   "source": [
    "print(ex['prompt_0shot'])"
   ]
  },
  {
   "cell_type": "code",
   "execution_count": 19,
   "metadata": {},
   "outputs": [
    {
     "name": "stdout",
     "output_type": "stream",
     "text": [
      "Here is the trip plan for visiting the 3 European cities for 10 days:\n",
      "\n",
      "**Day 1-3:** Arriving in Bucharest and visit Bucharest for 3 days.\n",
      "**Day 3:** Fly from Bucharest to Frankfurt.\n",
      "**Day 3-5:** Visit Frankfurt for 3 days.\n",
      "**Day 5:** Fly from Frankfurt to Stuttgart.\n",
      "**Day 5-10:** Visit Stuttgart for 6 days. \n",
      "\n"
     ]
    }
   ],
   "source": [
    "print(ex['pred_5shot_pro'])"
   ]
  },
  {
   "cell_type": "code",
   "execution_count": 20,
   "metadata": {},
   "outputs": [],
   "source": [
    "# task = ex['prompt_0shot']\n",
    "# system = \"You are an intelligent AI assistant.\"\n",
    "# instruction = f\"\"\"\n",
    "# We are creating a trip plan according to the following requirements.\n",
    "# PROBLEM DESCRIPTION\n",
    "\n",
    "# \"{task}\"\n",
    "\n",
    "# END PROBLEM DESCRIPTION\n",
    "\n",
    "# The proposed trip plan will be provided in the format\n",
    "# SOLUTION FORMAT\n",
    "\n",
    "# **Day x-y:** Visit <first city> for <y-x+1> days\n",
    "# **Day y:** Fly from <first city> to <second city>\n",
    "# **Day y-z:** Visit <second city> for <z-y+1> days\n",
    "# ...\n",
    "\n",
    "# END SOLUTION FORMAT\n",
    "\n",
    "# We now need a python function that can parse the proposed solution and analyze whether all requirements and constraints of the task are met.\n",
    "# * The function should check whether all cities are visited for the correct number of days.\n",
    "# * Check whether the chosen flights are available\n",
    "# * Check whether any constraints on visiting certain cities on specific days are met if the task requires it.\n",
    "# * Note that the language used for arriving or flying might be variable, make the function robust to potential language changes\n",
    "# * The function should return a list of strings indicating the constraints that are not met, or if all constraints are met\n",
    "\n",
    "# Please create the python function, enclose the code in ```python tags\n",
    "# \"\"\""
   ]
  },
  {
   "cell_type": "code",
   "execution_count": 21,
   "metadata": {},
   "outputs": [],
   "source": [
    "task = ex['prompt_0shot']\n",
    "system = \"You are an intelligent AI assistant.\"\n",
    "instruction = f\"\"\"\n",
    "We are creating a trip plan according to the following requirements.\n",
    "PROBLEM DESCRIPTION\n",
    "\n",
    "\"{task}\"\n",
    "\n",
    "END PROBLEM DESCRIPTION\n",
    "\n",
    "We now need to extract a dictionary of constraints.\n",
    "Produce a dictionary where the keys are the cities to be visited.\n",
    "The values in the dictionary should be num_days: days the city needs to be visited, flights:list of flights available from that city, day_constraints:list of specific days the city needs to be visited.\n",
    "\n",
    "Here is an example task description and corresponding output:\n",
    "You want to visit european cities for 10 days. You want to visit Amsterdam for 3 days, Berlin for 5 days and Rome for 2 days. You plan to meet a friend in Rome on days 9-10 of the trip.\n",
    "There are direct flights between Amsterdam and Berlin, Amsterdam and Rome.\n",
    "\n",
    "Output:\n",
    "{{\n",
    "    \"Amsterdam\":{{\"num_days\":3, \"flights\":[\"Berlin\", \"Rome\"], \"day_constraints\":[]}},\n",
    "    \"Berlin\":{{\"num_days\":5, \"flights\":[\"Amsterdam\"], \"day_constraints\":[]}},\n",
    "    \"Rome\":{{\"num_days\":2, \"flights\":[\"Amsterdam\"], \"day_constraints\":[9, 10]}}\n",
    "}}\n",
    "\n",
    "only output the dictionary, nothing else, do not enclose it in ```json tags\n",
    "\"\"\""
   ]
  },
  {
   "cell_type": "code",
   "execution_count": 22,
   "metadata": {},
   "outputs": [],
   "source": [
    "response = client.chat.completions.create(\n",
    "        model=\"gpt-4o\",\n",
    "        messages=[\n",
    "            {\"role\": \"system\", \"content\": system},\n",
    "            {\"role\": \"user\", \"content\": instruction}\n",
    "        ],\n",
    "        temperature=0.2,  # Adjust as needed\n",
    "        max_tokens=4096,   # Adjust as needed\n",
    "        seed=0\n",
    "    )\n",
    "\n",
    "resp = response.choices[0].message.content"
   ]
  },
  {
   "cell_type": "code",
   "execution_count": 23,
   "metadata": {},
   "outputs": [
    {
     "name": "stdout",
     "output_type": "stream",
     "text": [
      "{\n",
      "    \"Frankfurt\": {\"num_days\": 3, \"flights\": [\"Bucharest\", \"Stuttgart\"], \"day_constraints\": []},\n",
      "    \"Bucharest\": {\"num_days\": 3, \"flights\": [\"Frankfurt\"], \"day_constraints\": []},\n",
      "    \"Stuttgart\": {\"num_days\": 6, \"flights\": [\"Frankfurt\"], \"day_constraints\": [5, 6, 7, 8, 9, 10]}\n",
      "}\n"
     ]
    }
   ],
   "source": [
    "print(resp)"
   ]
  },
  {
   "cell_type": "code",
   "execution_count": 26,
   "metadata": {},
   "outputs": [],
   "source": [
    "def parse_constraints(resp:str):\n",
    "    if \"```json\" in resp:\n",
    "        resp = resp.replace(\"```json\\n\",\"\").replace(\"```\",\"\")\n",
    "\n",
    "    if \"```python\" in resp:\n",
    "        resp = resp.replace(\"```python\\n\",\"\").replace(\"```\",\"\")\n",
    "\n",
    "    try:\n",
    "        return ast.literal_eval(resp)\n",
    "    except:\n",
    "        print(f\"failed to parse {resp}\")\n",
    "        return None\n"
   ]
  },
  {
   "cell_type": "code",
   "execution_count": 27,
   "metadata": {},
   "outputs": [],
   "source": [
    "d = parse_constraints(resp)"
   ]
  },
  {
   "cell_type": "code",
   "execution_count": 28,
   "metadata": {},
   "outputs": [
    {
     "data": {
      "text/plain": [
       "{'Frankfurt': {'num_days': 3,\n",
       "  'flights': ['Bucharest', 'Stuttgart'],\n",
       "  'day_constraints': []},\n",
       " 'Bucharest': {'num_days': 3, 'flights': ['Frankfurt'], 'day_constraints': []},\n",
       " 'Stuttgart': {'num_days': 6,\n",
       "  'flights': ['Frankfurt'],\n",
       "  'day_constraints': [5, 6, 7, 8, 9, 10]}}"
      ]
     },
     "execution_count": 28,
     "metadata": {},
     "output_type": "execute_result"
    }
   ],
   "source": [
    "d"
   ]
  },
  {
   "cell_type": "code",
   "execution_count": null,
   "metadata": {},
   "outputs": [],
   "source": []
  }
 ],
 "metadata": {
  "kernelspec": {
   "display_name": "base",
   "language": "python",
   "name": "python3"
  },
  "language_info": {
   "codemirror_mode": {
    "name": "ipython",
    "version": 3
   },
   "file_extension": ".py",
   "mimetype": "text/x-python",
   "name": "python",
   "nbconvert_exporter": "python",
   "pygments_lexer": "ipython3",
   "version": "3.12.7"
  }
 },
 "nbformat": 4,
 "nbformat_minor": 2
}
